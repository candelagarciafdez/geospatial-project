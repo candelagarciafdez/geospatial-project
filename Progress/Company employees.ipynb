{
 "cells": [
  {
   "cell_type": "code",
   "execution_count": null,
   "metadata": {},
   "outputs": [],
   "source": [
    "#El primer paso es hacer una plantilla de empleados con puesto y número:"
   ]
  },
  {
   "cell_type": "code",
   "execution_count": 24,
   "metadata": {},
   "outputs": [],
   "source": [
    "emp = {\n",
    "    \"CEO\":1,\n",
    "    \"UI/UX Engineers\":5,\n",
    "    \"Frontend Developers\":10,\n",
    "    \"Data Engineers\":15,\n",
    "    \"Backend Developers\":5,\n",
    "    \"Account Managers\":20,\n",
    "    \"Maintenance guy\":1,\n",
    "    \"Executives\":10,\n",
    "    \"Designers\":20,\n",
    "    \"Doggo\":1\n",
    "     }"
   ]
  },
  {
   "cell_type": "code",
   "execution_count": 25,
   "metadata": {},
   "outputs": [],
   "source": [
    "#Asignamos un valor al voto de cada uno de los empleados\n",
    "emp_score = {\n",
    "    \"CEO\":5,\n",
    "    \"UI/UX Engineers\":1,\n",
    "    \"Frontend Developers\":1,\n",
    "    \"Data Engineers\":1,\n",
    "    \"Backend Developers\":1,\n",
    "    \"Account Managers\":1,\n",
    "    \"Maintenance guy\":1,\n",
    "    \"Executives\":2,\n",
    "    \"Designers\":1,\n",
    "    \"Doggo\":0.5\n",
    "     }"
   ]
  },
  {
   "cell_type": "code",
   "execution_count": 26,
   "metadata": {},
   "outputs": [],
   "source": [
    "def scoring(emp,score):\n",
    "    \n",
    "    total_emp_score = {k: emp[k]*score[k] for k in emp.keys()}\n",
    "    sorted_score = sorted(total_emp_score.items(), key = lambda x: x[1], reverse = True)\n",
    "    \n",
    "    return sorted_score\n",
    "\n",
    "    "
   ]
  },
  {
   "cell_type": "code",
   "execution_count": 27,
   "metadata": {},
   "outputs": [
    {
     "data": {
      "text/plain": [
       "[('Account Managers', 20),\n",
       " ('Executives', 20),\n",
       " ('Designers', 20),\n",
       " ('Data Engineers', 15),\n",
       " ('Frontend Developers', 10),\n",
       " ('CEO', 5),\n",
       " ('UI/UX Engineers', 5),\n",
       " ('Backend Developers', 5),\n",
       " ('Maintenance guy', 1),\n",
       " ('Doggo', 0.5)]"
      ]
     },
     "execution_count": 27,
     "metadata": {},
     "output_type": "execute_result"
    }
   ],
   "source": [
    "scoring(emp, emp_score)"
   ]
  },
  {
   "cell_type": "code",
   "execution_count": null,
   "metadata": {},
   "outputs": [],
   "source": []
  },
  {
   "cell_type": "code",
   "execution_count": null,
   "metadata": {},
   "outputs": [],
   "source": []
  },
  {
   "cell_type": "code",
   "execution_count": null,
   "metadata": {},
   "outputs": [],
   "source": []
  },
  {
   "cell_type": "code",
   "execution_count": null,
   "metadata": {},
   "outputs": [],
   "source": []
  },
  {
   "cell_type": "code",
   "execution_count": null,
   "metadata": {},
   "outputs": [],
   "source": []
  },
  {
   "cell_type": "code",
   "execution_count": null,
   "metadata": {},
   "outputs": [],
   "source": []
  },
  {
   "cell_type": "code",
   "execution_count": null,
   "metadata": {},
   "outputs": [],
   "source": []
  }
 ],
 "metadata": {
  "kernelspec": {
   "display_name": "Python 3",
   "language": "python",
   "name": "python3"
  },
  "language_info": {
   "codemirror_mode": {
    "name": "ipython",
    "version": 3
   },
   "file_extension": ".py",
   "mimetype": "text/x-python",
   "name": "python",
   "nbconvert_exporter": "python",
   "pygments_lexer": "ipython3",
   "version": "3.8.3"
  }
 },
 "nbformat": 4,
 "nbformat_minor": 4
}
