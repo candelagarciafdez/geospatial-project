{
 "cells": [
  {
   "cell_type": "markdown",
   "metadata": {},
   "source": [
    "### I started by importing our already clean database (with separate offices in cases where companies have more than one office into the same register) and dropping those without latitude and longitude."
   ]
  },
  {
   "cell_type": "code",
   "execution_count": 1,
   "metadata": {},
   "outputs": [],
   "source": [
    "from pymongo import MongoClient\n",
    "import pandas as pd"
   ]
  },
  {
   "cell_type": "code",
   "execution_count": 2,
   "metadata": {},
   "outputs": [],
   "source": [
    "mongo_url = \"mongodb://localhost/companies_unwinded.json\""
   ]
  },
  {
   "cell_type": "code",
   "execution_count": 3,
   "metadata": {},
   "outputs": [],
   "source": [
    "client = MongoClient (mongo_url)"
   ]
  },
  {
   "cell_type": "code",
   "execution_count": 4,
   "metadata": {},
   "outputs": [],
   "source": [
    "db = client[\"companies\"]"
   ]
  },
  {
   "cell_type": "code",
   "execution_count": 5,
   "metadata": {},
   "outputs": [],
   "source": [
    "companies_unwinded = db.companies_unwinded.find()"
   ]
  },
  {
   "cell_type": "code",
   "execution_count": 6,
   "metadata": {},
   "outputs": [],
   "source": [
    "comps_loc = {}\n",
    "for comp in companies_unwinded:\n",
    "    comps_loc[comp[\"_id\"]] = comp[\"coord\"][\"coordinates\"]\n",
    "    \n",
    "    "
   ]
  },
  {
   "cell_type": "code",
   "execution_count": 7,
   "metadata": {},
   "outputs": [
    {
     "data": {
      "text/plain": [
       "(ObjectId('5fb00dba25e9a232e9cc60b0'), [-121.904945, 37.692934])"
      ]
     },
     "execution_count": 7,
     "metadata": {},
     "output_type": "execute_result"
    }
   ],
   "source": [
    "[*(comps_loc.items())][0]"
   ]
  },
  {
   "cell_type": "code",
   "execution_count": 8,
   "metadata": {},
   "outputs": [],
   "source": [
    "offices = db.companies_unwinded"
   ]
  },
  {
   "cell_type": "markdown",
   "metadata": {},
   "source": [
    "### I analyzed the world map using Tableau to see where there are more companies in Europe and I found that it is in the UK, specifically around London, so I analyzed the video game companies in this area.\n"
   ]
  },
  {
   "cell_type": "markdown",
   "metadata": {},
   "source": [
    "![European companies](europecompanies.png)"
   ]
  },
  {
   "cell_type": "code",
   "execution_count": null,
   "metadata": {},
   "outputs": [],
   "source": []
  },
  {
   "cell_type": "code",
   "execution_count": 9,
   "metadata": {},
   "outputs": [],
   "source": [
    "res = offices.find( {\"offices.city\":\"London\", \"category_code\": \"games_video\"}, {\"coord.coordinates\":1, \"name\":1})"
   ]
  },
  {
   "cell_type": "code",
   "execution_count": 10,
   "metadata": {},
   "outputs": [],
   "source": [
    "videogames_offices = list(res)"
   ]
  },
  {
   "cell_type": "code",
   "execution_count": 11,
   "metadata": {},
   "outputs": [
    {
     "data": {
      "text/plain": [
       "[{'_id': ObjectId('5fb00dba25e9a232e9cc60c6'),\n",
       "  'name': 'Babelgum',\n",
       "  'coord': {'coordinates': [-6.267494, 53.344104]}},\n",
       " {'_id': ObjectId('5fb00dbb25e9a232e9cc634e'),\n",
       "  'name': 'Tioti',\n",
       "  'coord': {'coordinates': [-0.081169, 51.524323]}},\n",
       " {'_id': ObjectId('5fb00dbb25e9a232e9cc637f'),\n",
       "  'name': 'blinkbox',\n",
       "  'coord': {'coordinates': [-0.10759, 51.520779]}},\n",
       " {'_id': ObjectId('5fb00dbb25e9a232e9cc64fb'),\n",
       "  'name': 'WorldTV',\n",
       "  'coord': {'coordinates': [-0.1262362, 51.5001524]}},\n",
       " {'_id': ObjectId('5fb00dbb25e9a232e9cc653b'),\n",
       "  'name': 'idiomag',\n",
       "  'coord': {'coordinates': [-0.126236, 51.500152]}},\n",
       " {'_id': ObjectId('5fb00dbb25e9a232e9cc6758'),\n",
       "  'name': 'Playfish',\n",
       "  'coord': {'coordinates': [-0.1984802, 51.4991094]}},\n",
       " {'_id': ObjectId('5fb00dbb25e9a232e9cc67fc'),\n",
       "  'name': 'Pikum',\n",
       "  'coord': {'coordinates': [-0.152998, 51.539778]}},\n",
       " {'_id': ObjectId('5fb00dbb25e9a232e9cc6db0'),\n",
       "  'name': 'Vigster',\n",
       "  'coord': {'coordinates': [-0.126236, 51.500152]}},\n",
       " {'_id': ObjectId('5fb00dbb25e9a232e9cc710c'),\n",
       "  'name': 'Mixcloud',\n",
       "  'coord': {'coordinates': [-0.2859795, 51.5399105]}},\n",
       " {'_id': ObjectId('5fb00dbb25e9a232e9cc7138'),\n",
       "  'name': 'Illumina Digital',\n",
       "  'coord': {'coordinates': [-0.25628, 51.503612]}},\n",
       " {'_id': ObjectId('5fb00dbc25e9a232e9cc7a01'),\n",
       "  'name': 'BeatPick',\n",
       "  'coord': {'coordinates': [-0.1262362, 51.5001524]}},\n",
       " {'_id': ObjectId('5fb00dbc25e9a232e9cc7cf0'),\n",
       "  'name': 'CareerPlayer',\n",
       "  'coord': {'coordinates': [-0.1262362, 51.5001524]}},\n",
       " {'_id': ObjectId('5fb00dbc25e9a232e9cc7d26'),\n",
       "  'name': 'Wazoo Sports',\n",
       "  'coord': {'coordinates': [-84.0834, 37.1286]}},\n",
       " {'_id': ObjectId('5fb00dbc25e9a232e9cc7d28'),\n",
       "  'name': 'Kramaley Games',\n",
       "  'coord': {'coordinates': [-0.1479318, 51.4944999]}},\n",
       " {'_id': ObjectId('5fb00dbc25e9a232e9cc7d88'),\n",
       "  'name': 'Filmed Media',\n",
       "  'coord': {'coordinates': [-0.2055081, 51.5359008]}},\n",
       " {'_id': ObjectId('5fb00dbc25e9a232e9cc7da3'),\n",
       "  'name': 'Spoonfed',\n",
       "  'coord': {'coordinates': [-1.2186724, 51.7577453]}},\n",
       " {'_id': ObjectId('5fb00dbc25e9a232e9cc8317'),\n",
       "  'name': 'Swiffen',\n",
       "  'coord': {'coordinates': [-0.0828173, 51.5163382]}},\n",
       " {'_id': ObjectId('5fb00dbc25e9a232e9cc84d6'),\n",
       "  'name': 'Owngig',\n",
       "  'coord': {'coordinates': [22.76303, 39.39615]}},\n",
       " {'_id': ObjectId('5fb00dbc25e9a232e9cc87f5'),\n",
       "  'name': 'Bandstocks',\n",
       "  'coord': {'coordinates': [-0.1261853, 51.5142132]}},\n",
       " {'_id': ObjectId('5fb00dbc25e9a232e9cc8884'),\n",
       "  'name': 'Keen Software House',\n",
       "  'coord': {'coordinates': [-0.1153003, 51.5220763]}}]"
      ]
     },
     "execution_count": 11,
     "metadata": {},
     "output_type": "execute_result"
    }
   ],
   "source": [
    "videogames_offices"
   ]
  },
  {
   "cell_type": "markdown",
   "metadata": {},
   "source": [
    "### I assigned to a variable the dictionary values I was interested in."
   ]
  },
  {
   "cell_type": "code",
   "execution_count": 23,
   "metadata": {},
   "outputs": [],
   "source": [
    "name = [i['name'] for i in videogames_offices]\n",
    "lat = [i['coord']['coordinates'][1] for i in videogames_offices]\n",
    "lng = [i['coord']['coordinates'][0] for i in videogames_offices]\n"
   ]
  },
  {
   "cell_type": "markdown",
   "metadata": {},
   "source": [
    "### Then, I created a DataFrame with the values I want to save."
   ]
  },
  {
   "cell_type": "code",
   "execution_count": 24,
   "metadata": {},
   "outputs": [],
   "source": [
    "df = pd.DataFrame()"
   ]
  },
  {
   "cell_type": "code",
   "execution_count": 25,
   "metadata": {},
   "outputs": [],
   "source": [
    "df[\"name\"] = name\n",
    "df[\"lat\"] = lat\n",
    "df[\"lng\"] = lng"
   ]
  },
  {
   "cell_type": "code",
   "execution_count": 26,
   "metadata": {},
   "outputs": [
    {
     "data": {
      "text/html": [
       "<div>\n",
       "<style scoped>\n",
       "    .dataframe tbody tr th:only-of-type {\n",
       "        vertical-align: middle;\n",
       "    }\n",
       "\n",
       "    .dataframe tbody tr th {\n",
       "        vertical-align: top;\n",
       "    }\n",
       "\n",
       "    .dataframe thead th {\n",
       "        text-align: right;\n",
       "    }\n",
       "</style>\n",
       "<table border=\"1\" class=\"dataframe\">\n",
       "  <thead>\n",
       "    <tr style=\"text-align: right;\">\n",
       "      <th></th>\n",
       "      <th>name</th>\n",
       "      <th>lat</th>\n",
       "      <th>lng</th>\n",
       "    </tr>\n",
       "  </thead>\n",
       "  <tbody>\n",
       "    <tr>\n",
       "      <th>0</th>\n",
       "      <td>Babelgum</td>\n",
       "      <td>53.344104</td>\n",
       "      <td>-6.267494</td>\n",
       "    </tr>\n",
       "    <tr>\n",
       "      <th>1</th>\n",
       "      <td>Tioti</td>\n",
       "      <td>51.524323</td>\n",
       "      <td>-0.081169</td>\n",
       "    </tr>\n",
       "    <tr>\n",
       "      <th>2</th>\n",
       "      <td>blinkbox</td>\n",
       "      <td>51.520779</td>\n",
       "      <td>-0.107590</td>\n",
       "    </tr>\n",
       "    <tr>\n",
       "      <th>3</th>\n",
       "      <td>WorldTV</td>\n",
       "      <td>51.500152</td>\n",
       "      <td>-0.126236</td>\n",
       "    </tr>\n",
       "    <tr>\n",
       "      <th>4</th>\n",
       "      <td>idiomag</td>\n",
       "      <td>51.500152</td>\n",
       "      <td>-0.126236</td>\n",
       "    </tr>\n",
       "    <tr>\n",
       "      <th>5</th>\n",
       "      <td>Playfish</td>\n",
       "      <td>51.499109</td>\n",
       "      <td>-0.198480</td>\n",
       "    </tr>\n",
       "    <tr>\n",
       "      <th>6</th>\n",
       "      <td>Pikum</td>\n",
       "      <td>51.539778</td>\n",
       "      <td>-0.152998</td>\n",
       "    </tr>\n",
       "    <tr>\n",
       "      <th>7</th>\n",
       "      <td>Vigster</td>\n",
       "      <td>51.500152</td>\n",
       "      <td>-0.126236</td>\n",
       "    </tr>\n",
       "    <tr>\n",
       "      <th>8</th>\n",
       "      <td>Mixcloud</td>\n",
       "      <td>51.539910</td>\n",
       "      <td>-0.285979</td>\n",
       "    </tr>\n",
       "    <tr>\n",
       "      <th>9</th>\n",
       "      <td>Illumina Digital</td>\n",
       "      <td>51.503612</td>\n",
       "      <td>-0.256280</td>\n",
       "    </tr>\n",
       "    <tr>\n",
       "      <th>10</th>\n",
       "      <td>BeatPick</td>\n",
       "      <td>51.500152</td>\n",
       "      <td>-0.126236</td>\n",
       "    </tr>\n",
       "    <tr>\n",
       "      <th>11</th>\n",
       "      <td>CareerPlayer</td>\n",
       "      <td>51.500152</td>\n",
       "      <td>-0.126236</td>\n",
       "    </tr>\n",
       "    <tr>\n",
       "      <th>12</th>\n",
       "      <td>Wazoo Sports</td>\n",
       "      <td>37.128600</td>\n",
       "      <td>-84.083400</td>\n",
       "    </tr>\n",
       "    <tr>\n",
       "      <th>13</th>\n",
       "      <td>Kramaley Games</td>\n",
       "      <td>51.494500</td>\n",
       "      <td>-0.147932</td>\n",
       "    </tr>\n",
       "    <tr>\n",
       "      <th>14</th>\n",
       "      <td>Filmed Media</td>\n",
       "      <td>51.535901</td>\n",
       "      <td>-0.205508</td>\n",
       "    </tr>\n",
       "    <tr>\n",
       "      <th>15</th>\n",
       "      <td>Spoonfed</td>\n",
       "      <td>51.757745</td>\n",
       "      <td>-1.218672</td>\n",
       "    </tr>\n",
       "    <tr>\n",
       "      <th>16</th>\n",
       "      <td>Swiffen</td>\n",
       "      <td>51.516338</td>\n",
       "      <td>-0.082817</td>\n",
       "    </tr>\n",
       "    <tr>\n",
       "      <th>17</th>\n",
       "      <td>Owngig</td>\n",
       "      <td>39.396150</td>\n",
       "      <td>22.763030</td>\n",
       "    </tr>\n",
       "    <tr>\n",
       "      <th>18</th>\n",
       "      <td>Bandstocks</td>\n",
       "      <td>51.514213</td>\n",
       "      <td>-0.126185</td>\n",
       "    </tr>\n",
       "    <tr>\n",
       "      <th>19</th>\n",
       "      <td>Keen Software House</td>\n",
       "      <td>51.522076</td>\n",
       "      <td>-0.115300</td>\n",
       "    </tr>\n",
       "  </tbody>\n",
       "</table>\n",
       "</div>"
      ],
      "text/plain": [
       "                   name        lat        lng\n",
       "0              Babelgum  53.344104  -6.267494\n",
       "1                 Tioti  51.524323  -0.081169\n",
       "2              blinkbox  51.520779  -0.107590\n",
       "3               WorldTV  51.500152  -0.126236\n",
       "4               idiomag  51.500152  -0.126236\n",
       "5              Playfish  51.499109  -0.198480\n",
       "6                 Pikum  51.539778  -0.152998\n",
       "7               Vigster  51.500152  -0.126236\n",
       "8              Mixcloud  51.539910  -0.285979\n",
       "9      Illumina Digital  51.503612  -0.256280\n",
       "10             BeatPick  51.500152  -0.126236\n",
       "11         CareerPlayer  51.500152  -0.126236\n",
       "12         Wazoo Sports  37.128600 -84.083400\n",
       "13       Kramaley Games  51.494500  -0.147932\n",
       "14         Filmed Media  51.535901  -0.205508\n",
       "15             Spoonfed  51.757745  -1.218672\n",
       "16              Swiffen  51.516338  -0.082817\n",
       "17               Owngig  39.396150  22.763030\n",
       "18           Bandstocks  51.514213  -0.126185\n",
       "19  Keen Software House  51.522076  -0.115300"
      ]
     },
     "execution_count": 26,
     "metadata": {},
     "output_type": "execute_result"
    }
   ],
   "source": [
    "df"
   ]
  },
  {
   "cell_type": "code",
   "execution_count": 27,
   "metadata": {},
   "outputs": [],
   "source": [
    "df.to_csv('offices.csv')"
   ]
  },
  {
   "cell_type": "code",
   "execution_count": null,
   "metadata": {},
   "outputs": [],
   "source": []
  },
  {
   "cell_type": "code",
   "execution_count": null,
   "metadata": {},
   "outputs": [],
   "source": []
  }
 ],
 "metadata": {
  "kernelspec": {
   "display_name": "Python 3",
   "language": "python",
   "name": "python3"
  },
  "language_info": {
   "codemirror_mode": {
    "name": "ipython",
    "version": 3
   },
   "file_extension": ".py",
   "mimetype": "text/x-python",
   "name": "python",
   "nbconvert_exporter": "python",
   "pygments_lexer": "ipython3",
   "version": "3.8.3"
  }
 },
 "nbformat": 4,
 "nbformat_minor": 4
}
